{
  "nbformat": 4,
  "nbformat_minor": 0,
  "metadata": {
    "colab": {
      "name": "Team Binary.ipynb",
      "provenance": [],
      "collapsed_sections": [],
      "authorship_tag": "ABX9TyMM6Rsak140NjzkFbMqqgrB",
      "include_colab_link": true
    },
    "kernelspec": {
      "name": "python3",
      "display_name": "Python 3"
    }
  },
  "cells": [
    {
      "cell_type": "markdown",
      "metadata": {
        "id": "view-in-github",
        "colab_type": "text"
      },
      "source": [
        "<a href=\"https://colab.research.google.com/github/jberkow713/DS-Unit-4-Sprint-2-Neural-Networks/blob/master/Team_Binary.ipynb\" target=\"_parent\"><img src=\"https://colab.research.google.com/assets/colab-badge.svg\" alt=\"Open In Colab\"/></a>"
      ]
    },
    {
      "cell_type": "code",
      "metadata": {
        "id": "oHhjOU3VpgOj",
        "colab_type": "code",
        "colab": {}
      },
      "source": [
        "a = [1,2,3,4, 5, 5, 6, 7, 8, 8, 9, 10]"
      ],
      "execution_count": 0,
      "outputs": []
    },
    {
      "cell_type": "code",
      "metadata": {
        "id": "X2dDOD2ep2Oq",
        "colab_type": "code",
        "colab": {}
      },
      "source": [
        "import pandas as pd\n",
        "import numpy as np"
      ],
      "execution_count": 0,
      "outputs": []
    },
    {
      "cell_type": "code",
      "metadata": {
        "id": "VoTV474trZur",
        "colab_type": "code",
        "colab": {
          "base_uri": "https://localhost:8080/",
          "height": 54
        },
        "outputId": "ece8b5cb-0c69-4f21-c9ad-619a9069e847"
      },
      "source": [
        "test_list = [1, 3, 23, 6, 3, 5, 6, 1] \n",
        "print (\"The original list is : \" + str(test_list)) \n",
        "  \n",
        "# using naive method \n",
        "# to remove duplicated  \n",
        "# from list  \n",
        "\n",
        "\n",
        "res = [] \n",
        "for i in test_list: \n",
        "    if i not in res:\n",
        "       res.append(i)\n",
        "       res.sort()\n",
        "   \n",
        "   \n",
        "\n",
        "  \n",
        "# printing list after removal  \n",
        "print (\"The list after removing duplicates : \" + str(res))"
      ],
      "execution_count": 70,
      "outputs": [
        {
          "output_type": "stream",
          "text": [
            "The original list is : [1, 3, 23, 6, 3, 5, 6, 1]\n",
            "The list after removing duplicates : [1, 3, 5, 6, 23]\n"
          ],
          "name": "stdout"
        }
      ]
    },
    {
      "cell_type": "code",
      "metadata": {
        "id": "dneyj-Pk3hvW",
        "colab_type": "code",
        "colab": {}
      },
      "source": [
        "def removesort(x):\n",
        "  y = []\n",
        "  for i in x: \n",
        "    if i not in y:\n",
        "       y.append(i)\n",
        "       y.sort()\n",
        "  return y     "
      ],
      "execution_count": 0,
      "outputs": []
    },
    {
      "cell_type": "code",
      "metadata": {
        "id": "tbip6l425czN",
        "colab_type": "code",
        "colab": {
          "base_uri": "https://localhost:8080/",
          "height": 35
        },
        "outputId": "963dc58f-544d-4bc0-c8a7-a7583b043723"
      },
      "source": [
        "removesort ([1, 3, 23, 6, 3, 5, 6, 1])"
      ],
      "execution_count": 73,
      "outputs": [
        {
          "output_type": "execute_result",
          "data": {
            "text/plain": [
              "[1, 3, 5, 6, 23]"
            ]
          },
          "metadata": {
            "tags": []
          },
          "execution_count": 73
        }
      ]
    },
    {
      "cell_type": "code",
      "metadata": {
        "id": "pmFpsNDGtWQP",
        "colab_type": "code",
        "colab": {}
      },
      "source": [
        "def binary(x):\n",
        "  y = bin(x)\n",
        "  z = int(y, 2)\n",
        "  count = 0\n",
        "  while (z > 0):\n",
        "    if(z % 2 == 1): \n",
        "      count = count + 1\n",
        "    z = z // 2   \n",
        "  return count  \n",
        "  \n",
        "\n",
        "\n"
      ],
      "execution_count": 0,
      "outputs": []
    },
    {
      "cell_type": "code",
      "metadata": {
        "id": "L2XcfkCOwQ3h",
        "colab_type": "code",
        "colab": {
          "base_uri": "https://localhost:8080/",
          "height": 35
        },
        "outputId": "7c603845-6af2-4bad-c104-c64170d12d9c"
      },
      "source": [
        "binary(999)"
      ],
      "execution_count": 59,
      "outputs": [
        {
          "output_type": "execute_result",
          "data": {
            "text/plain": [
              "8"
            ]
          },
          "metadata": {
            "tags": []
          },
          "execution_count": 59
        }
      ]
    },
    {
      "cell_type": "code",
      "metadata": {
        "id": "pgONVaWOwSNM",
        "colab_type": "code",
        "colab": {}
      },
      "source": [
        ""
      ],
      "execution_count": 0,
      "outputs": []
    }
  ]
}